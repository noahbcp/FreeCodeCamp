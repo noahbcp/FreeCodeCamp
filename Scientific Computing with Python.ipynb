{
 "cells": [
  {
   "cell_type": "markdown",
   "metadata": {},
   "source": [
    "# Arithmetic Arranged"
   ]
  },
  {
   "cell_type": "code",
   "execution_count": null,
   "metadata": {},
   "outputs": [],
   "source": [
    "import re\n",
    "\n",
    "def arithmetic_arranger(problems, solve = False):\n",
    "    #Vars\n",
    "    firstline = \"\"\n",
    "    secondline = \"\"\n",
    "    dashes = \"\"\n",
    "    answers = \"\"\n",
    "    def evaluate(num1, operator, num2):\n",
    "        num1 = int(num1)\n",
    "        num2 = int(num2)\n",
    "        if operator == \"+\":\n",
    "            return(num1 + num2)\n",
    "        if operator == \"-\":\n",
    "            return(num1 - num2)\n",
    "    #Check length of problems\n",
    "    if len(problems) >= 6:\n",
    "        return(\"Error: Too many problems.\")\n",
    "    #Check for digits only\n",
    "    elif len(re.findall(r\"[a-z]\", str(problems))) > 0:\n",
    "        return(\"Error: Numbers must only contain digits.\")\n",
    "    #Check for accepted operators\n",
    "    elif len(re.findall(r\"[*/]\", str(problems))) > 0:\n",
    "        return(\"Error: Operator must be '+' or '-'.\")\n",
    "    else:\n",
    "        for calculation in problems:\n",
    "            operands = re.split('\\+|\\-', str(calculation).replace(\" \", \"\"))\n",
    "            operator = re.findall(\"\\+|\\-\", str(calculation))\n",
    "            num = list()\n",
    "            #Check that digits are not greater than 4\n",
    "            for numbers in operands:\n",
    "                if len(numbers) > 4:\n",
    "                    return(\"Error: Numbers cannot be more than four digits.\")\n",
    "                num.append(numbers)\n",
    "            firstnum = num[0]\n",
    "            secondnum = num[1]\n",
    "            length = max(len(firstnum), len(secondnum)) + 2\n",
    "            top = str(firstnum.rjust(length))\n",
    "            operator = operator[0]\n",
    "            bottom = operator + str(secondnum).rjust(length - 1)\n",
    "            answer = str(evaluate(firstnum, operator, secondnum)).rjust(length)\n",
    "            if calculation != problems[-1]:\n",
    "                firstline += top + \"    \"\n",
    "                secondline += bottom + \"    \"\n",
    "                dashes += \"-\" * (length) + \"    \"\n",
    "                answers += answer + \"    \"\n",
    "            else:\n",
    "                firstline += top\n",
    "                secondline += bottom\n",
    "                dashes += \"-\" * (length)\n",
    "                answers += answer\n",
    "        if solve:\n",
    "            arranged_problems = '\\n'.join((firstline, secondline, dashes, answers))\n",
    "        else:\n",
    "            arranged_problems = '\\n'.join((firstline, secondline, dashes))\n",
    "        return arranged_problems"
   ]
  },
  {
   "cell_type": "markdown",
   "metadata": {},
   "source": [
    "# Time Calculator"
   ]
  },
  {
   "cell_type": "code",
   "execution_count": 40,
   "metadata": {},
   "outputs": [
    {
     "name": "stdout",
     "output_type": "stream",
     "text": [
      "1 days passed.\n"
     ]
    },
    {
     "data": {
      "text/plain": [
       "'6:15 AM'"
      ]
     },
     "execution_count": 40,
     "metadata": {},
     "output_type": "execute_result"
    }
   ],
   "source": [
    "def add_time(start, duration, start_day = \"\"):\n",
    "    def time_convert(time, back = False):\n",
    "        if back:\n",
    "            time_split = str(time).split(\".\")\n",
    "            hours = time_split[0]\n",
    "            mins = time_split[1]\n",
    "            #Multiply by 100 to replicate missing decimal (due to .split)\n",
    "            mins = int((int(mins)/100)*60)\n",
    "            total = \"\".join((str(hours), \":\", str(mins)))\n",
    "        else:\n",
    "            time_split = str(time).split(\":\")\n",
    "            mins = time_split[1]\n",
    "            mins = int(mins)/60\n",
    "            hours = int(time_split[0])\n",
    "            total = hours + mins\n",
    "        return total\n",
    "    def mil_time(time):\n",
    "        time_split = str(time).split(\":\")\n",
    "        hours = int(time_split[0])\n",
    "        mins = int(time_split[1])\n",
    "        meridiem = \"AM\"\n",
    "        if hours >= 13:\n",
    "            hours = (hours - 12)\n",
    "            meridiem = \"PM\"\n",
    "        return \"\".join((str(hours), \":\", str(mins), \" \", meridiem))\n",
    "    time = str(start).split(\" \")\n",
    "    meridiem = time[1]\n",
    "    time = time[0]\n",
    "    time = time_convert(time)\n",
    "    if meridiem == \"PM\":\n",
    "        time = time + 12\n",
    "    final_time = time + time_convert(duration)\n",
    "    #Handle days\n",
    "    if da is not \"\":\n",
    "        days_passed = int(str((final_time / 24)).split(\".\")[0])\n",
    "        days = [\"Monday\", \"Tuesday\", \"Wednesday\", \"Thursday\", \"Friday\", \"Saturday\", \"Sunday\"]\n",
    "        start_day_index = days.index(start_day)\n",
    "    new_time = time_convert((final_time - (days_passed * 24)), True)\n",
    "    return mil_time(new_time)\n",
    "\n",
    "add_time(\"5:45 AM\", \"24:30\")"
   ]
  },
  {
   "cell_type": "code",
   "execution_count": 4,
   "metadata": {},
   "outputs": [
    {
     "data": {
      "text/plain": [
       "1.75"
      ]
     },
     "execution_count": 4,
     "metadata": {},
     "output_type": "execute_result"
    }
   ],
   "source": [
    "42 / 24"
   ]
  }
 ],
 "metadata": {
  "kernelspec": {
   "display_name": "Python 3.10.5 64-bit (windows store)",
   "language": "python",
   "name": "python3"
  },
  "language_info": {
   "codemirror_mode": {
    "name": "ipython",
    "version": 3
   },
   "file_extension": ".py",
   "mimetype": "text/x-python",
   "name": "python",
   "nbconvert_exporter": "python",
   "pygments_lexer": "ipython3",
   "version": "3.10.6"
  },
  "orig_nbformat": 4,
  "vscode": {
   "interpreter": {
    "hash": "1242d8b47a39cf262f158dedba706d5410057bcc74a7becbad79b52880e17d9e"
   }
  }
 },
 "nbformat": 4,
 "nbformat_minor": 2
}
